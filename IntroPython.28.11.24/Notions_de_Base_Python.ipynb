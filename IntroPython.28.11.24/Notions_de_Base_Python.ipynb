{
 "cells": [
  {
   "cell_type": "markdown",
   "id": "fe5a2e6d",
   "metadata": {},
   "source": [
    "# Notions de base en Python\n",
    "Bienvenue dans ce tutoriel de base sur Python ! Dans ce notebook, vous apprendrez les concepts fondamentaux de la programmation en Python. C'est parti !"
   ]
  },
  {
   "cell_type": "markdown",
   "id": "11901610",
   "metadata": {},
   "source": [
    "## 1. Instructions `print`\n",
    "La fonction `print()` est utilisée pour afficher une sortie en Python."
   ]
  },
  {
   "cell_type": "code",
   "execution_count": 1,
   "id": "69c7337b",
   "metadata": {},
   "outputs": [
    {
     "name": "stdout",
     "output_type": "stream",
     "text": [
      "Bonjour, tout le monde !\n",
      "Hello World !\n"
     ]
    }
   ],
   "source": [
    "print('Bonjour, tout le monde !')\n",
    "print(\"Hello World !\") "
   ]
  },
  {
   "cell_type": "markdown",
   "id": "d0a625e3",
   "metadata": {},
   "source": [
    "## 2. Variables et types de données\n",
    "Les variables stockent des données. Python est typé dynamiquement, ce qui signifie que vous n'avez pas à déclarer explicitement le type."
   ]
  },
  {
   "cell_type": "code",
   "execution_count": 2,
   "id": "0547de7e",
   "metadata": {},
   "outputs": [
    {
     "name": "stdout",
     "output_type": "stream",
     "text": [
      "5 3.14 Alice\n"
     ]
    }
   ],
   "source": [
    "x = 5       # Integer (int)\n",
    "y = 3.14    # float\n",
    "nom = \"Alice\"  # String\n",
    "print(x, y, nom)"
   ]
  },
  {
   "cell_type": "markdown",
   "id": "03a962e5",
   "metadata": {},
   "source": [
    "`type`: Permet de déterminer le type d'object python d'une variable"
   ]
  },
  {
   "cell_type": "code",
   "execution_count": 3,
   "id": "744b246a",
   "metadata": {},
   "outputs": [
    {
     "data": {
      "text/plain": [
       "str"
      ]
     },
     "execution_count": 3,
     "metadata": {},
     "output_type": "execute_result"
    }
   ],
   "source": [
    "type(nom)"
   ]
  },
  {
   "cell_type": "markdown",
   "id": "a762c222",
   "metadata": {},
   "source": [
    "## 3. Listes\n",
    "Les listes sont des collections ordonnées et modifiables d'éléments."
   ]
  },
  {
   "cell_type": "code",
   "execution_count": 4,
   "id": "c99e302c",
   "metadata": {},
   "outputs": [
    {
     "name": "stdout",
     "output_type": "stream",
     "text": [
      "['pomme', 'banane', 'cerise']\n",
      "['pomme', 'banane', 'cerise', 'orange']\n"
     ]
    }
   ],
   "source": [
    "fruits = [\"pomme\", \"banane\", \"cerise\"]\n",
    "print(fruits)\n",
    "fruits.append(\"orange\")  # Ajouter un élément\n",
    "print(fruits)"
   ]
  },
  {
   "cell_type": "markdown",
   "id": "6e6dfc2a",
   "metadata": {},
   "source": [
    "On peut aussi additionner des listes ensembles"
   ]
  },
  {
   "cell_type": "code",
   "execution_count": 5,
   "id": "c762be3e",
   "metadata": {},
   "outputs": [
    {
     "name": "stdout",
     "output_type": "stream",
     "text": [
      "['pomme', 'banane', 'cerise', 'orange', 'kiwi', 'fraise']\n"
     ]
    }
   ],
   "source": [
    "plus_de_fruits = fruits + [\"kiwi\", \"fraise\"]  # Concaténation\n",
    "print(plus_de_fruits)"
   ]
  },
  {
   "cell_type": "markdown",
   "id": "b6866242",
   "metadata": {},
   "source": [
    "On peut sélectionner des éléments d'une liste "
   ]
  },
  {
   "cell_type": "code",
   "execution_count": 6,
   "id": "6993bcb7",
   "metadata": {},
   "outputs": [
    {
     "name": "stdout",
     "output_type": "stream",
     "text": [
      "orange\n"
     ]
    }
   ],
   "source": [
    "print(fruits[3])  # Accès à un élément"
   ]
  },
  {
   "cell_type": "markdown",
   "id": "88d433fe",
   "metadata": {},
   "source": [
    "## 4. Boucles\n",
    "### Boucle `for`\n",
    "Parcourt une séquence (comme une liste)."
   ]
  },
  {
   "cell_type": "code",
   "execution_count": 7,
   "id": "a94cd902",
   "metadata": {},
   "outputs": [
    {
     "name": "stdout",
     "output_type": "stream",
     "text": [
      "pomme\n",
      "banane\n",
      "cerise\n",
      "orange\n"
     ]
    }
   ],
   "source": [
    "for fruit in fruits:\n",
    "    print(fruit)"
   ]
  },
  {
   "cell_type": "markdown",
   "id": "f0284377",
   "metadata": {},
   "source": [
    "boucle `for` mathématique"
   ]
  },
  {
   "cell_type": "code",
   "execution_count": 8,
   "id": "f653971a",
   "metadata": {},
   "outputs": [
    {
     "name": "stdout",
     "output_type": "stream",
     "text": [
      "7\n",
      "14\n",
      "21\n",
      "28\n",
      "35\n",
      "42\n",
      "49\n",
      "56\n",
      "63\n",
      "70\n",
      "77\n",
      "84\n"
     ]
    }
   ],
   "source": [
    "a = 7\n",
    "numbers = [1, 2, 3, 4, 5, 6, 7, 8, 9, 10, 11, 12]\n",
    "\n",
    "for number in numbers:\n",
    "    print(a * number)"
   ]
  },
  {
   "cell_type": "markdown",
   "id": "4c733ac4",
   "metadata": {},
   "source": [
    "### Boucle `while`\n",
    "Répète tant qu'une condition est `True`."
   ]
  },
  {
   "cell_type": "code",
   "execution_count": 10,
   "id": "54282c64",
   "metadata": {},
   "outputs": [
    {
     "name": "stdout",
     "output_type": "stream",
     "text": [
      "0\n",
      "1\n",
      "2\n",
      "3\n",
      "4\n",
      "5\n",
      "6\n",
      "7\n",
      "8\n",
      "9\n"
     ]
    }
   ],
   "source": [
    "compteur = 0.0\n",
    "while compteur < 10:\n",
    "    print(f\"{int(compteur)}\")\n",
    "    compteur += 1.0"
   ]
  },
  {
   "cell_type": "markdown",
   "id": "bbe79481",
   "metadata": {},
   "source": [
    "## 5. Fonctions\n",
    "Les fonctions sont des blocs de code réutilisables."
   ]
  },
  {
   "cell_type": "code",
   "execution_count": 44,
   "id": "a8877c5a",
   "metadata": {},
   "outputs": [
    {
     "name": "stdout",
     "output_type": "stream",
     "text": [
      "Bonjour, Alice!\n",
      "8\n",
      "7\n",
      "1\n"
     ]
    }
   ],
   "source": [
    "def saluer(nom):\n",
    "    return (f\"Bonjour, {nom}!\")\n",
    "    \n",
    "def addition(a, b):\n",
    "    return a + b\n",
    "\n",
    "def combien_de_lettres(mot):\n",
    "    return len(mot)\n",
    "\n",
    "def trouver_plus_petit(liste): \n",
    "    return min(liste)\n",
    "\n",
    "print(saluer(\"Alice\"))\n",
    "print(addition(5, 3))\n",
    "print(combien_de_lettres(\"Bonjour\"))\n",
    "print(trouver_plus_petit(numbers))"
   ]
  },
  {
   "cell_type": "markdown",
   "id": "a5fbe262",
   "metadata": {},
   "source": [
    "fonction `len()`"
   ]
  },
  {
   "cell_type": "code",
   "execution_count": 39,
   "id": "ce40f3cc",
   "metadata": {},
   "outputs": [
    {
     "data": {
      "text/plain": [
       "4"
      ]
     },
     "execution_count": 39,
     "metadata": {},
     "output_type": "execute_result"
    }
   ],
   "source": [
    "len(\"Bonjour\")\n",
    "len(fruits)"
   ]
  },
  {
   "cell_type": "markdown",
   "id": "af164de6",
   "metadata": {},
   "source": [
    "## 6. Structures conditionnelles\n",
    "Utilisez `if`, `elif` et `else` pour prendre des décisions."
   ]
  },
  {
   "cell_type": "code",
   "execution_count": 78,
   "id": "2bff0528",
   "metadata": {},
   "outputs": [
    {
     "name": "stdout",
     "output_type": "stream",
     "text": [
      "True\n"
     ]
    },
    {
     "data": {
      "text/plain": [
       "bool"
      ]
     },
     "execution_count": 78,
     "metadata": {},
     "output_type": "execute_result"
    }
   ],
   "source": [
    "x=3\n",
    "y=3\n",
    "\n",
    "print(x<=y)\n",
    "type(True)"
   ]
  },
  {
   "cell_type": "code",
   "execution_count": 55,
   "id": "1442fe3f",
   "metadata": {},
   "outputs": [
    {
     "name": "stdout",
     "output_type": "stream",
     "text": [
      "Zéro\n"
     ]
    }
   ],
   "source": [
    "nombre = 0.0\n",
    "if nombre > 0:\n",
    "    print(\"Positif\")\n",
    "elif nombre == 0:\n",
    "    print(\"Zéro\")\n",
    "else:\n",
    "    print(\"Négatif\")"
   ]
  },
  {
   "cell_type": "markdown",
   "id": "be9c0bb2",
   "metadata": {},
   "source": [
    "## 7. Dictionnaires\n",
    "Les dictionnaires stockent des paires clé-valeur."
   ]
  },
  {
   "cell_type": "code",
   "execution_count": 57,
   "id": "8a1bc878",
   "metadata": {},
   "outputs": [
    {
     "name": "stdout",
     "output_type": "stream",
     "text": [
      "Alice\n",
      "26\n"
     ]
    }
   ],
   "source": [
    "personne = {\"nom\": \"Alice\", \"âge\": 25}\n",
    "print(personne[\"nom\"])\n",
    "personne[\"âge\"] = 26  # Modifier une valeur\n",
    "print(personne['âge'])"
   ]
  },
  {
   "cell_type": "markdown",
   "id": "35cc0f2c",
   "metadata": {},
   "source": [
    "## 8. Importer des bibliothèques\n",
    "Python dispose d'un écosystème riche de bibliothèques que vous pouvez utiliser."
   ]
  },
  {
   "cell_type": "code",
   "execution_count": 12,
   "id": "2c357947",
   "metadata": {},
   "outputs": [
    {
     "name": "stdout",
     "output_type": "stream",
     "text": [
      "4.0\n"
     ]
    }
   ],
   "source": [
    "import numpy as np\n",
    "print(np.sqrt(16))"
   ]
  },
  {
   "cell_type": "markdown",
   "id": "fd44634f",
   "metadata": {},
   "source": [
    "Pour installer d'autres bibliothèques: \n",
    "1. Aller dans un terminal `command prompt`\n",
    "2. Écrire: `pip install {nom_de_la_bibliothèque}`"
   ]
  },
  {
   "cell_type": "markdown",
   "id": "51aa0fc3",
   "metadata": {},
   "source": [
    "## 9. Entrée/Sortie de fichiers\n",
    "Python peut lire et écrire des fichiers."
   ]
  },
  {
   "cell_type": "code",
   "execution_count": 13,
   "id": "a35034c5",
   "metadata": {},
   "outputs": [
    {
     "name": "stdout",
     "output_type": "stream",
     "text": [
      "Bonjour, fichier !\n"
     ]
    }
   ],
   "source": [
    "# Écrire dans un fichier\n",
    "with open(\"exemple.txt\", \"w\") as f:\n",
    "    f.write(\"Bonjour, fichier !\")\n",
    "\n",
    "# Lire depuis un fichier\n",
    "with open(\"exemple.txt\", \"r\") as f:\n",
    "    contenu = f.read()\n",
    "    print(contenu)"
   ]
  },
  {
   "cell_type": "markdown",
   "id": "f038c841",
   "metadata": {},
   "source": [
    "## 10. Classes et objets\n",
    "Python est un langage orienté objet. Vous pouvez définir des classes pour créer des objets."
   ]
  },
  {
   "cell_type": "code",
   "execution_count": 27,
   "id": "56f94372",
   "metadata": {},
   "outputs": [],
   "source": [
    "class Personne:\n",
    "    def __init__(self, nom: str, nom_de_famille: str,\n",
    "                 âge: int, sexe: str, taille: float, lunette: bool):\n",
    "        self.nom = nom # str\n",
    "        self.nom_de_famille = nom_de_famille # str\n",
    "        self.âge = âge # int\n",
    "        self.sexe = sexe # str\n",
    "        self.taille = taille # float\n",
    "        self.lunette = lunette # bool\n",
    "        \n",
    "    def saluer(self):\n",
    "        print(f\"Salut, je m'appelle {self.nom} et j'ai {self.âge} ans.\")\n",
    "    \n",
    "    def nom_complet(self):\n",
    "        print(f\"Je m'appelle {self.nom} {self.nom_de_famille}\")\n",
    "    \n",
    "    def année_de_naissance(self):\n",
    "        année = 2024 - self.âge\n",
    "        return année\n",
    "    \n",
    "    def porte_tu_des_lunettes(self):\n",
    "        if self.lunette:\n",
    "            print('Oui')\n",
    "        else: \n",
    "            print('Non')\n",
    "            \n",
    "    def taille_en_pouces(self):\n",
    "        pouces = self.taille*100*12/30\n",
    "        pied = int(pouces/12) \n",
    "        pouces_restant = int(pouces%12)\n",
    "        \n",
    "        print(f\"Je mesure {pied} pieds et {pouces_restant} pouces\")\n",
    "        \n"
   ]
  },
  {
   "cell_type": "code",
   "execution_count": 28,
   "id": "b712de16",
   "metadata": {},
   "outputs": [],
   "source": [
    "pierrot = Personne('Pierrot', 'Lamontagne', 24, 'Homme', 1.80, True)"
   ]
  },
  {
   "cell_type": "code",
   "execution_count": 26,
   "id": "8e127dc0",
   "metadata": {},
   "outputs": [
    {
     "name": "stdout",
     "output_type": "stream",
     "text": [
      "Je mesure 6 pieds et 0.0 pouces\n"
     ]
    }
   ],
   "source": [
    "pierrot.taille_en_pouces()"
   ]
  },
  {
   "cell_type": "code",
   "execution_count": 19,
   "id": "40c484d2",
   "metadata": {},
   "outputs": [
    {
     "name": "stdout",
     "output_type": "stream",
     "text": [
      "Salut, je m'appelle Pierrot et j'ai 24 ans.\n"
     ]
    }
   ],
   "source": [
    "pierrot.saluer()"
   ]
  },
  {
   "cell_type": "code",
   "execution_count": 20,
   "id": "e736e215",
   "metadata": {},
   "outputs": [
    {
     "name": "stdout",
     "output_type": "stream",
     "text": [
      "Oui\n"
     ]
    }
   ],
   "source": [
    "pierrot.porte_tu_des_lunettes()"
   ]
  },
  {
   "cell_type": "code",
   "execution_count": 22,
   "id": "d394925d",
   "metadata": {},
   "outputs": [
    {
     "data": {
      "text/plain": [
       "2000"
      ]
     },
     "execution_count": 22,
     "metadata": {},
     "output_type": "execute_result"
    }
   ],
   "source": [
    "pierrot.année_de_naissance()"
   ]
  },
  {
   "cell_type": "code",
   "execution_count": 23,
   "id": "a45d27f3",
   "metadata": {},
   "outputs": [
    {
     "name": "stdout",
     "output_type": "stream",
     "text": [
      "Je m'appelle Pierrot Lamontagne\n"
     ]
    }
   ],
   "source": [
    "pierrot.nom_complet()"
   ]
  },
  {
   "cell_type": "markdown",
   "id": "fdfe3c7f",
   "metadata": {},
   "source": [
    "# Félicitations !\n",
    "Vous avez appris les bases de Python. Continuez à pratiquer et à explorer davantage !"
   ]
  }
 ],
 "metadata": {
  "kernelspec": {
   "display_name": "base",
   "language": "python",
   "name": "python3"
  },
  "language_info": {
   "codemirror_mode": {
    "name": "ipython",
    "version": 3
   },
   "file_extension": ".py",
   "mimetype": "text/x-python",
   "name": "python",
   "nbconvert_exporter": "python",
   "pygments_lexer": "ipython3",
   "version": "3.8.16"
  }
 },
 "nbformat": 4,
 "nbformat_minor": 5
}
